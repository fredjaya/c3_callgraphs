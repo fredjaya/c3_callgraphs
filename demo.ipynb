{
 "cells": [
  {
   "cell_type": "code",
   "execution_count": 1,
   "metadata": {},
   "outputs": [],
   "source": [
    "import json\n",
    "import networkx as nx\n",
    "from pyvis.network import Network\n",
    "import helpers as h"
   ]
  },
  {
   "cell_type": "markdown",
   "metadata": {},
   "source": [
    "## Prep PyCG data"
   ]
  },
  {
   "cell_type": "code",
   "execution_count": null,
   "metadata": {},
   "outputs": [],
   "source": [
    "# Load json as dict\n",
    "with open(\"alignment_stripped.json\",\"r\") as file:\n",
    "    pycg_dict = json.load(file)"
   ]
  },
  {
   "cell_type": "code",
   "execution_count": null,
   "metadata": {},
   "outputs": [],
   "source": [
    "# See all objects to decide how to assign (colour) nodes\n",
    "unique_items = set(pycg_dict.keys())\n",
    "for val in pycg_dict.values():\n",
    "    if isinstance(val, list):\n",
    "        for v in val:\n",
    "            unique_items.add(v)\n",
    "    else:\n",
    "        unique_items.add(val)"
   ]
  },
  {
   "cell_type": "code",
   "execution_count": null,
   "metadata": {},
   "outputs": [],
   "source": [
    "#sorted(unique_items)"
   ]
  },
  {
   "cell_type": "code",
   "execution_count": null,
   "metadata": {},
   "outputs": [],
   "source": [
    "# Add nodes with attributes\n",
    "G = nx.DiGraph()\n",
    "for node in pycg_dict.keys():\n",
    "    G.add_node(node, group=h.assign_group(node))  \n",
    "\n",
    "# Then connect them\n",
    "for node, children in pycg_dict.items():\n",
    "    for child in children:\n",
    "        G.add_edge(node, child)\n",
    "\n",
    "# Draws ok with nx but lacks customisability\n",
    "#nx.draw(G2)"
   ]
  },
  {
   "cell_type": "code",
   "execution_count": null,
   "metadata": {},
   "outputs": [],
   "source": [
    "# Node attributes looks correct\n",
    "for node, attrs in G.nodes(True):\n",
    "    print(node, attrs)"
   ]
  },
  {
   "cell_type": "code",
   "execution_count": null,
   "metadata": {},
   "outputs": [],
   "source": [
    "# Remove python built-ins\n",
    "nodes_to_remove = [node for node, attrs in G.nodes(data=True) if attrs.get(\"group\") in [\"built-in\", \"Other alignment\", \"Other Cogent3\", \"Other package\"]]\n",
    "nodes_to_remove"
   ]
  },
  {
   "cell_type": "code",
   "execution_count": null,
   "metadata": {},
   "outputs": [],
   "source": [
    "G.remove_nodes_from(nodes_to_remove)"
   ]
  },
  {
   "cell_type": "code",
   "execution_count": null,
   "metadata": {},
   "outputs": [],
   "source": [
    "# Generate pyvis with node attributes\n",
    "pyvis_graph = Network(\n",
    "    directed=True,\n",
    "    notebook=True,\n",
    "    cdn_resources=\"remote\",\n",
    "    filter_menu=True\n",
    "    )\n",
    "pyvis_graph.from_nx(G)\n",
    "pyvis_graph.show_buttons() # config UI\n",
    "pyvis_graph.show(\"pyvis_graph_selected_cls.html\")"
   ]
  },
  {
   "cell_type": "code",
   "execution_count": null,
   "metadata": {},
   "outputs": [],
   "source": []
  }
 ],
 "metadata": {
  "kernelspec": {
   "display_name": "c3",
   "language": "python",
   "name": "python3"
  },
  "language_info": {
   "codemirror_mode": {
    "name": "ipython",
    "version": 3
   },
   "file_extension": ".py",
   "mimetype": "text/x-python",
   "name": "python",
   "nbconvert_exporter": "python",
   "pygments_lexer": "ipython3",
   "version": "3.12.0"
  }
 },
 "nbformat": 4,
 "nbformat_minor": 2
}
